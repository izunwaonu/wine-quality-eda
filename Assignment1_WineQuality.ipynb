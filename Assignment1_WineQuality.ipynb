{
 "cells": [
  {
   "cell_type": "markdown",
   "id": "b6259b10",
   "metadata": {},
   "source": [
    "# Assignment 1 - Wine Quality (UCI) - Classification\n",
    "\n",
    "**Student:** Justus Izuchukwu Onuh  \n",
    "**Institution:** Ho Chi Minh City University of Technology  \n",
    "**Course:** Programming Platform for Data Analysis and Visualization (CO5177)  \n",
    "**Lecturer:** LE THANH SACH  \n",
    "\n",
    "\n",
    "---\n",
    "\n",
    "### Objective \n",
    "Perform **Exploratory Data Analysis (EDA)** and apply a **classification** model to the UCI Red Wine Quality dataset.  \n",
    "Everything (code, plots, explanations, and results) will be contained in this notebook.\n"
   ]
  },
  {
   "cell_type": "markdown",
   "id": "18e73571",
   "metadata": {},
   "source": [
    "### Tasks \n",
    "1. Load and explore the dataset  \n",
    "2. Perform comprehensive EDA with visualizations  \n",
    "3. Apply a **classification** model (predict `quality_label`) \n",
    "4. Evaluate model performance with classification metrics  \n",
    "5. Present findings and explanations clearly using Markdown and code cells\n"
   ]
  },
  {
   "cell_type": "code",
   "execution_count": 1,
   "id": "be9b0bc7",
   "metadata": {},
   "outputs": [
    {
     "name": "stdout",
     "output_type": "stream",
     "text": [
      "Downloading dataset from UCI repository...\n",
      "Download complete: data/winequality-red.csv\n",
      "Notebook kernel Python: /opt/homebrew/opt/python@3.11/bin/python3.11\n"
     ]
    }
   ],
   "source": [
    "# Step 1: Setup — imports and download dataset\n",
    "from pathlib import Path \n",
    "import urllib.request\n",
    "import pandas as pd\n",
    "import numpy as np\n",
    "import matplotlib.pyplot as plt\n",
    "import seaborn as sns\n",
    "import sys\n",
    "\n",
    "sns.set(style=\"whitegrid\")\n",
    "DATA_DIR = Path(\"data\")\n",
    "DATA_DIR.mkdir(exist_ok=True)\n",
    "\n",
    "URL = \"https://archive.ics.uci.edu/ml/machine-learning-databases/wine-quality/winequality-red.csv\"\n",
    "DATA_PATH = DATA_DIR / \"winequality-red.csv\"\n",
    "\n",
    "if not DATA_PATH.exists():\n",
    "    print(\"Downloading dataset from UCI repository...\")\n",
    "    urllib.request.urlretrieve(URL, DATA_PATH)\n",
    "    print(\"Download complete:\", DATA_PATH)\n",
    "else:\n",
    "    print(\"Dataset already present at:\", DATA_PATH)\n",
    "\n",
    "print(\"Notebook kernel Python:\", sys.executable)\n"
   ]
  },
  {
   "cell_type": "markdown",
   "id": "0e549562",
   "metadata": {},
   "source": [
    "### Dataset description\n",
    "\n",
    "- **Source:** UCI Machine Learning Repository (Wine Quality — Red)  \n",
    "- **Samples:** 1599 red wine observations  \n",
    "- **Features (11 numeric):** fixed acidity, volatile acidity, citric acid, residual sugar, chlorides, free sulfur dioxide, total sulfur dioxide, density, pH, sulphates, alcohol  \n",
    "- **Original target:** `quality` (integer score, usually 3–8)\n",
    "\n",
    "**Modeling decision (classification):**  \n",
    "We will convert `quality` to a binary label `quality_label` where:\n",
    "- `quality_label = 1` (good) if `quality >= 7`  \n",
    "- `quality_label = 0` (not good) if `quality < 7`\n",
    "\n",
    "This threshold is chosen to separate higher-quality wines from the rest; it is a common and interpretable split for classification tasks. We will justify and briefly discuss this choice in the notebook results.\n"
   ]
  }
 ],
 "metadata": {
  "kernelspec": {
   "display_name": "Python 3",
   "language": "python",
   "name": "python3"
  },
  "language_info": {
   "name": "python",
   "version": "3.11.13"
  }
 },
 "nbformat": 4,
 "nbformat_minor": 5
}
